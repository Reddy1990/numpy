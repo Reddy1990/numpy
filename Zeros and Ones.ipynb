{
 "cells": [
  {
   "cell_type": "markdown",
   "metadata": {},
   "source": [
    "# Zeros and Ones"
   ]
  },
  {
   "cell_type": "code",
   "execution_count": 2,
   "metadata": {},
   "outputs": [],
   "source": [
    "import numpy as np"
   ]
  },
  {
   "cell_type": "markdown",
   "metadata": {},
   "source": [
    "# Empty array\n",
    "\n",
    "## There are two ways an empty NumPy array can be created: numpy.zeros and numpy.empty\n",
    "### numpy.zeros(shape, dtype=float, order='C')\n",
    "### numpy.empty(shape, dtype=float, order='C')\n",
    "### numpy.empty creates an array without initializing it with any vaules it contains junk values\n",
    "\n",
    "### numpy.empty, unlike numpy.zeros, does not set the array values to zero and, ​therefore, may be marginally faster. On the other hand, it requires the user to manually set all the values in the array ​and should be used with caution."
   ]
  },
  {
   "cell_type": "code",
   "execution_count": 46,
   "metadata": {},
   "outputs": [
    {
     "name": "stdout",
     "output_type": "stream",
     "text": [
      "[]\n",
      "[1.03455024e-311]\n"
     ]
    }
   ],
   "source": [
    "print(np.empty([0]))\n",
    "print(np.empty([1]))"
   ]
  },
  {
   "cell_type": "code",
   "execution_count": 45,
   "metadata": {},
   "outputs": [
    {
     "name": "stdout",
     "output_type": "stream",
     "text": [
      "[[0 0]\n",
      " [0 0]]\n"
     ]
    }
   ],
   "source": [
    "print(np.empty([2,2], dtype = np.uint8))"
   ]
  },
  {
   "cell_type": "code",
   "execution_count": 48,
   "metadata": {},
   "outputs": [
    {
     "name": "stdout",
     "output_type": "stream",
     "text": [
      "[[2.22522597e-306 1.33511969e-306 1.42419666e-306]\n",
      " [9.45694587e-308 7.56590979e-307 9.79068487e-307]\n",
      " [1.39075350e-307 1.31566912e-312 2.46155009e-312]]\n"
     ]
    }
   ],
   "source": [
    "print(np.empty([3,3]))"
   ]
  },
  {
   "cell_type": "code",
   "execution_count": 51,
   "metadata": {},
   "outputs": [
    {
     "name": "stdout",
     "output_type": "stream",
     "text": [
      "[[0 0 0]\n",
      " [0 0 0]]\n"
     ]
    }
   ],
   "source": [
    "print(np.zeros([2,3], dtype = np.uint8))"
   ]
  },
  {
   "cell_type": "code",
   "execution_count": 52,
   "metadata": {},
   "outputs": [
    {
     "name": "stdout",
     "output_type": "stream",
     "text": [
      "[[0 0 0]\n",
      " [0 0 0]]\n"
     ]
    }
   ],
   "source": [
    "print(np.empty([2,3], dtype=np.uint8))"
   ]
  },
  {
   "cell_type": "code",
   "execution_count": null,
   "metadata": {},
   "outputs": [],
   "source": []
  }
 ],
 "metadata": {
  "kernelspec": {
   "display_name": "Python 3",
   "language": "python",
   "name": "python3"
  },
  "language_info": {
   "codemirror_mode": {
    "name": "ipython",
    "version": 3
   },
   "file_extension": ".py",
   "mimetype": "text/x-python",
   "name": "python",
   "nbconvert_exporter": "python",
   "pygments_lexer": "ipython3",
   "version": "3.6.10"
  }
 },
 "nbformat": 4,
 "nbformat_minor": 4
}
